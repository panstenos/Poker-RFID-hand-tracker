{
 "cells": [
  {
   "cell_type": "code",
   "execution_count": 4,
   "metadata": {},
   "outputs": [
    {
     "name": "stdout",
     "output_type": "stream",
     "text": [
      "Looking in indexes: https://pypi.org/simple, https://www.piwheels.org/simple\n",
      "Collecting wiringpi\n",
      "  Downloading wiringpi-2.60.1.tar.gz (130 kB)\n",
      "\u001b[2K     \u001b[90m━━━━━━━━━━━━━━━━━━━━━━━━━━━━━━━━━━━━━\u001b[0m \u001b[32m130.9/130.9 kB\u001b[0m \u001b[31m946.4 kB/s\u001b[0m eta \u001b[36m0:00:00\u001b[0ma \u001b[36m0:00:01\u001b[0m\n",
      "\u001b[?25h  Installing build dependencies ... \u001b[?25ldone\n",
      "\u001b[?25h  Getting requirements to build wheel ... \u001b[?25ldone\n",
      "\u001b[?25h  Preparing metadata (pyproject.toml) ... \u001b[?25ldone\n",
      "\u001b[?25hBuilding wheels for collected packages: wiringpi\n",
      "  Building wheel for wiringpi (pyproject.toml) ... \u001b[?25ldone\n",
      "\u001b[?25h  Created wheel for wiringpi: filename=wiringpi-2.60.1-cp311-cp311-linux_aarch64.whl size=305312 sha256=66fdc21ceefbcd35fc302471e851f3632330758a61e133ed979855d12ac7176d\n",
      "  Stored in directory: /home/panstenos/.cache/pip/wheels/3f/88/29/bd83ea1c135c69e50c25c1f4f3fdfb940d9b689c6c4defe4c5\n",
      "Successfully built wiringpi\n",
      "Installing collected packages: wiringpi\n",
      "Successfully installed wiringpi-2.60.1\n",
      "Note: you may need to restart the kernel to use updated packages.\n"
     ]
    }
   ],
   "source": [
    "%pip install wiringpi # sovles issue with importing GPIO library in terminal"
   ]
  }
 ],
 "metadata": {
  "kernelspec": {
   "display_name": ".venv",
   "language": "python",
   "name": "python3"
  },
  "language_info": {
   "codemirror_mode": {
    "name": "ipython",
    "version": 3
   },
   "file_extension": ".py",
   "mimetype": "text/x-python",
   "name": "python",
   "nbconvert_exporter": "python",
   "pygments_lexer": "ipython3",
   "version": "3.11.2"
  }
 },
 "nbformat": 4,
 "nbformat_minor": 2
}
