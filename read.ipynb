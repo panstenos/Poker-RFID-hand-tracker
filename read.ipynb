{
 "cells": [
  {
   "cell_type": "code",
   "execution_count": 5,
   "metadata": {},
   "outputs": [
    {
     "name": "stderr",
     "output_type": "stream",
     "text": [
      "AUTH ERROR!!\n",
      "AUTH ERROR!!\n",
      "AUTH ERROR!!\n",
      "AUTH ERROR!!\n",
      "AUTH ERROR(status2reg & 0x08) != 0\n",
      "AUTH ERROR(status2reg & 0x08) != 0\n",
      "AUTH ERROR(status2reg & 0x08) != 0\n",
      "AUTH ERROR(status2reg & 0x08) != 0\n",
      "AUTH ERROR!!\n",
      "AUTH ERROR!!\n",
      "AUTH ERROR!!\n",
      "AUTH ERROR!!\n",
      "AUTH ERROR(status2reg & 0x08) != 0\n",
      "AUTH ERROR(status2reg & 0x08) != 0\n",
      "AUTH ERROR(status2reg & 0x08) != 0\n",
      "AUTH ERROR(status2reg & 0x08) != 0\n",
      "AUTH ERROR!!\n",
      "AUTH ERROR!!\n",
      "AUTH ERROR!!\n",
      "AUTH ERROR!!\n",
      "AUTH ERROR(status2reg & 0x08) != 0\n",
      "AUTH ERROR(status2reg & 0x08) != 0\n",
      "AUTH ERROR(status2reg & 0x08) != 0\n",
      "AUTH ERROR(status2reg & 0x08) != 0\n",
      "AUTH ERROR!!\n",
      "AUTH ERROR!!\n",
      "AUTH ERROR!!\n",
      "AUTH ERROR!!\n",
      "AUTH ERROR(status2reg & 0x08) != 0\n",
      "AUTH ERROR(status2reg & 0x08) != 0\n",
      "AUTH ERROR(status2reg & 0x08) != 0\n",
      "AUTH ERROR(status2reg & 0x08) != 0\n",
      "AUTH ERROR!!\n",
      "AUTH ERROR!!\n",
      "AUTH ERROR!!\n",
      "AUTH ERROR!!\n",
      "AUTH ERROR(status2reg & 0x08) != 0\n",
      "AUTH ERROR(status2reg & 0x08) != 0\n",
      "AUTH ERROR(status2reg & 0x08) != 0\n",
      "AUTH ERROR(status2reg & 0x08) != 0\n"
     ]
    },
    {
     "name": "stdout",
     "output_type": "stream",
     "text": [
      "GPIO Good to Go\n"
     ]
    }
   ],
   "source": [
    "import time\n",
    "import RPi.GPIO as GPIO\n",
    "from mfrc522 import SimpleMFRC522\n",
    "import spidev\n",
    "\n",
    "reader = SimpleMFRC522()\n",
    "card_set = set()\n",
    "\n",
    "try:\n",
    "    while True:\n",
    "        #print('Place card on Reader')\n",
    "        id, text = reader.read()\n",
    "        #print('ID: {}'.format(id))\n",
    "        #print('Text: {}'.format(text))\n",
    "        card_set.add(id)\n",
    "\n",
    "except: # use Ctr+C to terminate the programm\n",
    "    GPIO.cleanup()\n",
    "    print('GPIO Good to Go')"
   ]
  },
  {
   "cell_type": "code",
   "execution_count": 6,
   "metadata": {},
   "outputs": [
    {
     "data": {
      "text/plain": [
       "{584195838806}"
      ]
     },
     "execution_count": 6,
     "metadata": {},
     "output_type": "execute_result"
    }
   ],
   "source": [
    "card_set"
   ]
  },
  {
   "cell_type": "code",
   "execution_count": 31,
   "metadata": {},
   "outputs": [
    {
     "data": {
      "text/plain": [
       "48"
      ]
     },
     "execution_count": 31,
     "metadata": {},
     "output_type": "execute_result"
    }
   ],
   "source": [
    "len(card_set)"
   ]
  },
  {
   "cell_type": "code",
   "execution_count": 33,
   "metadata": {},
   "outputs": [
    {
     "name": "stderr",
     "output_type": "stream",
     "text": [
      "Error while reading!\n",
      "Error while reading!\n",
      "Error while reading!\n",
      "Error while reading!\n",
      "Error while reading!\n",
      "Error while reading!\n",
      "Error while reading!\n",
      "Error while reading!\n",
      "Error while reading!\n",
      "Error while reading!\n",
      "Error while reading!\n",
      "Error while reading!\n",
      "Error while reading!\n",
      "Error while reading!\n",
      "Error while reading!\n",
      "Error while reading!\n",
      "Error while reading!\n",
      "Error while reading!\n",
      "Error while reading!\n",
      "Error while reading!\n",
      "Error while reading!\n",
      "Error while reading!\n",
      "Error while reading!\n",
      "Error while reading!\n",
      "Error while reading!\n",
      "Error while reading!\n",
      "Error while reading!\n",
      "Error while reading!\n",
      "Error while reading!\n",
      "Error while reading!\n",
      "Error while reading!\n",
      "Error while reading!\n",
      "Error while reading!\n",
      "Error while reading!\n",
      "Error while reading!\n",
      "Error while reading!\n",
      "Error while reading!\n",
      "Error while reading!\n",
      "Error while reading!\n",
      "Error while reading!\n",
      "Error while reading!\n",
      "Error while reading!\n",
      "Error while reading!\n",
      "Error while reading!\n",
      "Error while reading!\n",
      "Error while reading!\n",
      "Error while reading!\n",
      "Error while reading!\n",
      "Error while reading!\n",
      "Error while reading!\n",
      "Error while reading!\n",
      "Error while reading!\n",
      "Error while reading!\n",
      "Error while reading!\n",
      "Error while reading!\n",
      "Error while reading!\n",
      "Error while reading!\n",
      "Error while reading!\n",
      "Error while reading!\n",
      "Error while reading!\n",
      "Error while reading!\n",
      "Error while reading!\n",
      "Error while reading!\n",
      "Error while reading!\n",
      "Error while reading!\n",
      "Error while reading!\n",
      "Error while reading!\n",
      "Error while reading!\n",
      "Error while reading!\n",
      "Error while reading!\n",
      "Error while reading!\n",
      "Error while reading!\n",
      "Error while reading!\n",
      "Error while reading!\n",
      "Error while reading!\n",
      "Error while reading!\n",
      "Error while reading!\n",
      "Error while reading!\n",
      "Error while reading!\n",
      "Error while reading!\n",
      "Error while reading!\n",
      "Error while reading!\n",
      "Error while reading!\n",
      "Error while reading!\n",
      "Error while reading!\n",
      "Error while reading!\n",
      "Error while reading!\n",
      "Error while reading!\n",
      "Error while reading!\n",
      "Error while reading!\n"
     ]
    },
    {
     "name": "stdout",
     "output_type": "stream",
     "text": [
      "['0x4', '0x9e', '0x7c', '0x6e', '0xb2', '0x86', '0x56', '0x80', '0xe2', '0x48', '0x0', '0x0', '0x0', '0x0', '0x0', '0x0']\n",
      "['0x4', '0x9e', '0x7c', '0x6e', '0xb2', '0x86', '0x56', '0x80', '0xe2', '0x48', '0x0', '0x0', '0x0', '0x0', '0x0', '0x0']\n",
      "['0x4', '0x9e', '0x7c', '0x6e', '0xb2', '0x86', '0x56', '0x80', '0xe2', '0x48', '0x0', '0x0', '0x0', '0x0', '0x0', '0x0']\n",
      "['0x4', '0x9e', '0x7c', '0x6e', '0xb2', '0x86', '0x56', '0x80', '0xe2', '0x48', '0x0', '0x0', '0x0', '0x0', '0x0', '0x0']\n",
      "['0x4', '0x9e', '0x7c', '0x6e', '0xb2', '0x86', '0x56', '0x80', '0xe2', '0x48', '0x0', '0x0', '0x0', '0x0', '0x0', '0x0']\n",
      "['0x4', '0x9e', '0x7c', '0x6e', '0xb2', '0x86', '0x56', '0x80', '0xe2', '0x48', '0x0', '0x0', '0x0', '0x0', '0x0', '0x0']\n",
      "['0x4', '0x9e', '0x7c', '0x6e', '0xb2', '0x86', '0x56', '0x80', '0xe2', '0x48', '0x0', '0x0', '0x0', '0x0', '0x0', '0x0']\n",
      "['0x4', '0x9e', '0x7c', '0x6e', '0xb2', '0x86', '0x56', '0x80', '0xe2', '0x48', '0x0', '0x0', '0x0', '0x0', '0x0', '0x0']\n",
      "['0x4', '0x9e', '0x7c', '0x6e', '0xb2', '0x86', '0x56', '0x80', '0xe2', '0x48', '0x0', '0x0', '0x0', '0x0', '0x0', '0x0']\n",
      "['0x4', '0x9e', '0x7c', '0x6e', '0xb2', '0x86', '0x56', '0x80', '0xe2', '0x48', '0x0', '0x0', '0x0', '0x0', '0x0', '0x0']\n",
      "['0x4', '0x9e', '0x7c', '0x6e', '0xb2', '0x86', '0x56', '0x80', '0xe2', '0x48', '0x0', '0x0', '0x0', '0x0', '0x0', '0x0']\n",
      "['0x4', '0x9e', '0x7c', '0x6e', '0xb2', '0x86', '0x56', '0x80', '0xe2', '0x48', '0x0', '0x0', '0x0', '0x0', '0x0', '0x0']\n",
      "['0x4', '0x9e', '0x7c', '0x6e', '0xb2', '0x86', '0x56', '0x80', '0xe2', '0x48', '0x0', '0x0', '0x0', '0x0', '0x0', '0x0']\n",
      "['0x4', '0x9e', '0x7c', '0x6e', '0xb2', '0x86', '0x56', '0x80', '0xe2', '0x48', '0x0', '0x0', '0x0', '0x0', '0x0', '0x0']\n",
      "['0x4', '0x9e', '0x7c', '0x6e', '0xb2', '0x86', '0x56', '0x80', '0xe2', '0x48', '0x0', '0x0', '0x0', '0x0', '0x0', '0x0']\n",
      "['0x4', '0x9e', '0x7c', '0x6e', '0xb2', '0x86', '0x56', '0x80', '0xe2', '0x48', '0x0', '0x0', '0x0', '0x0', '0x0', '0x0']\n",
      "['0x4', '0x9e', '0x7c', '0x6e', '0xb2', '0x86', '0x56', '0x80', '0xe2', '0x48', '0x0', '0x0', '0x0', '0x0', '0x0', '0x0']\n",
      "['0x4', '0x9e', '0x7c', '0x6e', '0xb2', '0x86', '0x56', '0x80', '0xe2', '0x48', '0x0', '0x0', '0x0', '0x0', '0x0', '0x0']\n",
      "['0x4', '0x9e', '0x7c', '0x6e', '0xb2', '0x86', '0x56', '0x80', '0xe2', '0x48', '0x0', '0x0', '0x0', '0x0', '0x0', '0x0']\n",
      "['0x4', '0x9e', '0x7c', '0x6e', '0xb2', '0x86', '0x56', '0x80', '0xe2', '0x48', '0x0', '0x0', '0x0', '0x0', '0x0', '0x0']\n",
      "['0x4', '0x9e', '0x7c', '0x6e', '0xb2', '0x86', '0x56', '0x80', '0xe2', '0x48', '0x0', '0x0', '0x0', '0x0', '0x0', '0x0']\n",
      "['0x4', '0x9e', '0x7c', '0x6e', '0xb2', '0x86', '0x56', '0x80', '0xe2', '0x48', '0x0', '0x0', '0x0', '0x0', '0x0', '0x0']\n",
      "['0x4', '0x9e', '0x7c', '0x6e', '0xb2', '0x86', '0x56', '0x80', '0xe2', '0x48', '0x0', '0x0', '0x0', '0x0', '0x0', '0x0']\n",
      "['0x4', '0x9e', '0x7c', '0x6e', '0xb2', '0x86', '0x56', '0x80', '0xe2', '0x48', '0x0', '0x0', '0x0', '0x0', '0x0', '0x0']\n",
      "['0x4', '0x9e', '0x7c', '0x6e', '0xb2', '0x86', '0x56', '0x80', '0xe2', '0x48', '0x0', '0x0', '0x0', '0x0', '0x0', '0x0']\n",
      "GPIO Good to Go\n"
     ]
    }
   ],
   "source": [
    "# Import required libraries\n",
    "import RPi.GPIO as GPIO\n",
    "from mfrc522 import MFRC522\n",
    "from mfrc522 import SimpleMFRC522\n",
    "from time import sleep\n",
    "from datetime import datetime\n",
    "\n",
    "\n",
    "reader = MFRC522()\n",
    "card_set = set()\n",
    "\n",
    "# Main loop\n",
    "try:\n",
    "    while True:\n",
    "        status, _ = reader.MFRC522_Request(reader.PICC_REQIDL)\n",
    "        if status != reader.MI_OK:\n",
    "            sleep(0.1)\n",
    "            continue\n",
    "        status, backData = reader.MFRC522_Anticoll()\n",
    "        buf = reader.MFRC522_Read(0)\n",
    "        reader.MFRC522_Request(reader.PICC_HALT)\n",
    "        if buf:\n",
    "            #print(datetime.now().isoformat(), ':'.join([hex(x) for x in buf]))\n",
    "            print([hex(x) for x in buf])\n",
    "            #card_set.add(buf)\n",
    "            #print(len(card_set))\n",
    "\n",
    "except:\n",
    "        GPIO.cleanup()\n",
    "        print('GPIO Good to Go')"
   ]
  },
  {
   "cell_type": "markdown",
   "metadata": {},
   "source": [
    "# Reading Card IDs and to label them"
   ]
  },
  {
   "cell_type": "code",
   "execution_count": 52,
   "metadata": {},
   "outputs": [
    {
     "name": "stdout",
     "output_type": "stream",
     "text": [
      "ID: 6320690945748158912124676324756291584\n",
      "ID: 6320690945748158912124676324756291584\n",
      "ID: 6320690945748158912124676324756291584\n",
      "ID: 6320690945748158912124676324756291584\n",
      "ID: 6320690945748158912124676324756291584\n",
      "ID: 6320690945748158912124676324756291584\n",
      "ID: 6320690945748158912124676324756291584\n",
      "ID: 6320690945748158912124676324756291584\n",
      "ID: 6320690945748158912124676324756291584\n",
      "ID: 6320690945748158912124676324756291584\n",
      "ID: 6320690945748158912124676324756291584\n",
      "ID: 6320690945748158912124676324756291584\n",
      "ID: 6320690945748158912124676324756291584\n",
      "ID: 6320690945748158912124676324756291584\n",
      "ID: 6320690945748158912124676324756291584\n",
      "ID: 6320690945748158912124676324756291584\n",
      "ID: 6320690945748158912124676324756291584\n",
      "ID: 6320690945748158912124676324756291584\n",
      "ID: 6320690945748158912124676324756291584\n",
      "ID: 6320690945748158912124676324756291584\n",
      "ID: 6320690945748158912124676324756291584\n",
      "ID: 6320690945748158912124676324756291584\n",
      "ID: 6320690945748158912124676324756291584\n",
      "ID: 6320690945748158912124676324756291584\n",
      "ID: 6320690945748158912124676324756291584\n",
      "ID: 6320690945748158912124676324756291584\n",
      "ID: 6320690945748158912124676324756291584\n",
      "ID: 6320690945748158912124676324756291584\n",
      "ID: 6320690945748158912124676324756291584\n",
      "ID: 6320690945748158912124676324756291584\n",
      "ID: 6320690945748158912124676324756291584\n",
      "ID: 6320690945748158912124676324756291584\n",
      "ID: 6320690945748158912124676324756291584\n",
      "GPIO Good to Go\n"
     ]
    }
   ],
   "source": [
    "# Import required libraries\n",
    "import RPi.GPIO as GPIO\n",
    "from mfrc522 import MFRC522\n",
    "from time import sleep\n",
    "from datetime import datetime\n",
    "\n",
    "\n",
    "reader = MFRC522()\n",
    "card_set = set()\n",
    "ID_list = []\n",
    "\n",
    "def append_unique(ID):\n",
    "    if ID not in ID_list:\n",
    "        ID_list.append(ID)\n",
    "\n",
    "# Main loop\n",
    "try:\n",
    "    while True:\n",
    "        status, _ = reader.MFRC522_Request(reader.PICC_REQIDL)\n",
    "        if status != reader.MI_OK:\n",
    "            sleep(0.1)\n",
    "            continue\n",
    "        status, backData = reader.MFRC522_Anticoll()\n",
    "        buf = reader.MFRC522_Read(0)\n",
    "        reader.MFRC522_Request(reader.PICC_HALT)\n",
    "        if buf:\n",
    "            # Convert the buffer to an integer\n",
    "            card_id = int.from_bytes(buf, byteorder='big')\n",
    "            print(\"ID:\", card_id)\n",
    "            append_unique(card_id)\n",
    "            # Uncomment the next line if you want to store card IDs in a set\n",
    "            # card_set.add(card_id)\n",
    "            # print(len(card_set))\n",
    "\n",
    "except:\n",
    "        GPIO.cleanup()\n",
    "        print('GPIO Good to Go')"
   ]
  },
  {
   "cell_type": "code",
   "execution_count": 50,
   "metadata": {},
   "outputs": [
    {
     "data": {
      "text/plain": [
       "[6320690945748158912124676324756291584,\n",
       " 6293978853843824633647662607724707840,\n",
       " 6300311323189102239358501795043213312,\n",
       " 6019703948638093836250178792869330944,\n",
       " 6107993119186464529076945990629457920,\n",
       " 6305221013191948686094836120101584896,\n",
       " 6165886642870725251578962832475029504,\n",
       " 6036360243699792656471144724636368896,\n",
       " 6151239336325900632166356394656661504,\n",
       " 6057394766250192238251867488642924544,\n",
       " 6151504037616860789318256424994734080,\n",
       " 6102946126777980862243562053905154048,\n",
       " 6182806846941759086308452859140636672,\n",
       " 6342293217311135712148594424710955008,\n",
       " 6364131668026567534162878879181570048,\n",
       " 6202145015304565754356960253626548224,\n",
       " 6184395213143845057748528228256972800,\n",
       " 6201091914568426152781666867438682112,\n",
       " 6201941715839554152066695219849986048,\n",
       " 6181665327576253565732405077904195584,\n",
       " 6357463271272229447660643065513639936,\n",
       " 6322105247677201044815058677813739520,\n",
       " 6327827818627443843655102763802558464,\n",
       " 6307010302014170831895048716675973120,\n",
       " 6372430025768311580882426672539762688,\n",
       " 6020986890273687318668831050057121792,\n",
       " 6273723461043590327362834754925756416,\n",
       " 6317339356789317987851456635025227776,\n",
       " 6087774012884661755858735980959760384,\n",
       " 6026872354326059444986967462407831552,\n",
       " 6161320565408703169274771707529265152,\n",
       " 6091152777103245072799750256265789440,\n",
       " 6129619713795333208252505308576874496,\n",
       " 6035424559100499194644164970582900736,\n",
       " 6362961071925419278574934267315355648,\n",
       " 6322226149853197812194226425881952256,\n",
       " 6337540002929254937479007348954497024,\n",
       " 6341765082379815626074195860738015232,\n",
       " 6355743307092207283155824819895795712,\n",
       " 6129352477203172594641802284832391168,\n",
       " 6200678977385401807054129316369530880,\n",
       " 6360955886360345762454779263476301824,\n",
       " 6355640865078076339367316367568011264,\n",
       " 6117483543861398197019926246264406016,\n",
       " 6070792406987679366267610957732642816,\n",
       " 6195548320037303077080246597233672192,\n",
       " 6340512802043115163954192305059004416,\n",
       " 6337721990018550202662459719408418816,\n",
       " 6151178251412602134362071772270952448,\n",
       " 6031738785752173103394975712469319680,\n",
       " 6067453732219328267081419015665483776]"
      ]
     },
     "execution_count": 50,
     "metadata": {},
     "output_type": "execute_result"
    }
   ],
   "source": [
    "ID_list"
   ]
  },
  {
   "cell_type": "code",
   "execution_count": 51,
   "metadata": {},
   "outputs": [
    {
     "data": {
      "text/plain": [
       "51"
      ]
     },
     "execution_count": 51,
     "metadata": {},
     "output_type": "execute_result"
    }
   ],
   "source": [
    "len(ID_list)"
   ]
  },
  {
   "cell_type": "markdown",
   "metadata": {},
   "source": [
    "9 of spades seems to be broken"
   ]
  }
 ],
 "metadata": {
  "kernelspec": {
   "display_name": ".venv",
   "language": "python",
   "name": "python3"
  },
  "language_info": {
   "codemirror_mode": {
    "name": "ipython",
    "version": 3
   },
   "file_extension": ".py",
   "mimetype": "text/x-python",
   "name": "python",
   "nbconvert_exporter": "python",
   "pygments_lexer": "ipython3",
   "version": "3.11.2"
  }
 },
 "nbformat": 4,
 "nbformat_minor": 2
}
