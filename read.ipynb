{
 "cells": [
  {
   "cell_type": "code",
   "execution_count": 2,
   "metadata": {},
   "outputs": [
    {
     "ename": "KeyboardInterrupt",
     "evalue": "",
     "output_type": "error",
     "traceback": [
      "\u001b[0;31m---------------------------------------------------------------------------\u001b[0m",
      "\u001b[0;31mKeyboardInterrupt\u001b[0m                         Traceback (most recent call last)",
      "\u001b[1;32m/home/panstenos/Desktop/RFID-hand-tracker/read.ipynb Cell 1\u001b[0m line \u001b[0;36m7\n\u001b[1;32m      <a href='vscode-notebook-cell://ssh-remote%2B192.168.1.76/home/panstenos/Desktop/RFID-hand-tracker/read.ipynb#W0sdnNjb2RlLXJlbW90ZQ%3D%3D?line=3'>4</a>\u001b[0m reader \u001b[39m=\u001b[39m SimpleMFRC522()\n\u001b[1;32m      <a href='vscode-notebook-cell://ssh-remote%2B192.168.1.76/home/panstenos/Desktop/RFID-hand-tracker/read.ipynb#W0sdnNjb2RlLXJlbW90ZQ%3D%3D?line=5'>6</a>\u001b[0m \u001b[39mtry\u001b[39;00m:\n\u001b[0;32m----> <a href='vscode-notebook-cell://ssh-remote%2B192.168.1.76/home/panstenos/Desktop/RFID-hand-tracker/read.ipynb#W0sdnNjb2RlLXJlbW90ZQ%3D%3D?line=6'>7</a>\u001b[0m     \u001b[39mid\u001b[39m, text\u001b[39m=\u001b[39m reader\u001b[39m.\u001b[39;49mread()\n\u001b[1;32m      <a href='vscode-notebook-cell://ssh-remote%2B192.168.1.76/home/panstenos/Desktop/RFID-hand-tracker/read.ipynb#W0sdnNjb2RlLXJlbW90ZQ%3D%3D?line=7'>8</a>\u001b[0m     \u001b[39mprint\u001b[39m(\u001b[39mid\u001b[39m)\n\u001b[1;32m      <a href='vscode-notebook-cell://ssh-remote%2B192.168.1.76/home/panstenos/Desktop/RFID-hand-tracker/read.ipynb#W0sdnNjb2RlLXJlbW90ZQ%3D%3D?line=8'>9</a>\u001b[0m     \u001b[39mprint\u001b[39m(text)\n",
      "File \u001b[0;32m~/Desktop/RFID-hand-tracker/.venv/lib/python3.11/site-packages/mfrc522/SimpleMFRC522.py:19\u001b[0m, in \u001b[0;36mSimpleMFRC522.read\u001b[0;34m(self)\u001b[0m\n\u001b[1;32m     17\u001b[0m \u001b[39mid\u001b[39m, text \u001b[39m=\u001b[39m \u001b[39mself\u001b[39m\u001b[39m.\u001b[39mread_no_block()\n\u001b[1;32m     18\u001b[0m \u001b[39mwhile\u001b[39;00m \u001b[39mnot\u001b[39;00m \u001b[39mid\u001b[39m:\n\u001b[0;32m---> 19\u001b[0m     \u001b[39mid\u001b[39m, text \u001b[39m=\u001b[39m \u001b[39mself\u001b[39;49m\u001b[39m.\u001b[39;49mread_no_block()\n\u001b[1;32m     20\u001b[0m \u001b[39mreturn\u001b[39;00m \u001b[39mid\u001b[39m, text\n",
      "File \u001b[0;32m~/Desktop/RFID-hand-tracker/.venv/lib/python3.11/site-packages/mfrc522/SimpleMFRC522.py:38\u001b[0m, in \u001b[0;36mSimpleMFRC522.read_no_block\u001b[0;34m(self)\u001b[0m\n\u001b[1;32m     37\u001b[0m \u001b[39mdef\u001b[39;00m \u001b[39mread_no_block\u001b[39m(\u001b[39mself\u001b[39m):\n\u001b[0;32m---> 38\u001b[0m   (status, TagType) \u001b[39m=\u001b[39m \u001b[39mself\u001b[39;49m\u001b[39m.\u001b[39;49mREADER\u001b[39m.\u001b[39;49mMFRC522_Request(\u001b[39mself\u001b[39;49m\u001b[39m.\u001b[39;49mREADER\u001b[39m.\u001b[39;49mPICC_REQIDL)\n\u001b[1;32m     39\u001b[0m   \u001b[39mif\u001b[39;00m status \u001b[39m!=\u001b[39m \u001b[39mself\u001b[39m\u001b[39m.\u001b[39mREADER\u001b[39m.\u001b[39mMI_OK:\n\u001b[1;32m     40\u001b[0m       \u001b[39mreturn\u001b[39;00m \u001b[39mNone\u001b[39;00m, \u001b[39mNone\u001b[39;00m\n",
      "File \u001b[0;32m~/Desktop/RFID-hand-tracker/.venv/lib/python3.11/site-packages/mfrc522/MFRC522.py:259\u001b[0m, in \u001b[0;36mMFRC522.MFRC522_Request\u001b[0;34m(self, reqMode)\u001b[0m\n\u001b[1;32m    256\u001b[0m \u001b[39mself\u001b[39m\u001b[39m.\u001b[39mWrite_MFRC522(\u001b[39mself\u001b[39m\u001b[39m.\u001b[39mBitFramingReg, \u001b[39m0x07\u001b[39m)\n\u001b[1;32m    258\u001b[0m TagType\u001b[39m.\u001b[39mappend(reqMode)\n\u001b[0;32m--> 259\u001b[0m (status, backData, backBits) \u001b[39m=\u001b[39m \u001b[39mself\u001b[39;49m\u001b[39m.\u001b[39;49mMFRC522_ToCard(\u001b[39mself\u001b[39;49m\u001b[39m.\u001b[39;49mPCD_TRANSCEIVE, TagType)\n\u001b[1;32m    261\u001b[0m \u001b[39mif\u001b[39;00m ((status \u001b[39m!=\u001b[39m \u001b[39mself\u001b[39m\u001b[39m.\u001b[39mMI_OK) \u001b[39m|\u001b[39m (backBits \u001b[39m!=\u001b[39m \u001b[39m0x10\u001b[39m)):\n\u001b[1;32m    262\u001b[0m     status \u001b[39m=\u001b[39m \u001b[39mself\u001b[39m\u001b[39m.\u001b[39mMI_ERR\n",
      "File \u001b[0;32m~/Desktop/RFID-hand-tracker/.venv/lib/python3.11/site-packages/mfrc522/MFRC522.py:202\u001b[0m, in \u001b[0;36mMFRC522.MFRC522_ToCard\u001b[0;34m(self, command, sendData)\u001b[0m\n\u001b[1;32m    199\u001b[0m     waitIRq \u001b[39m=\u001b[39m \u001b[39m0x30\u001b[39m\n\u001b[1;32m    201\u001b[0m \u001b[39mself\u001b[39m\u001b[39m.\u001b[39mWrite_MFRC522(\u001b[39mself\u001b[39m\u001b[39m.\u001b[39mCommIEnReg, irqEn \u001b[39m|\u001b[39m \u001b[39m0x80\u001b[39m)\n\u001b[0;32m--> 202\u001b[0m \u001b[39mself\u001b[39;49m\u001b[39m.\u001b[39;49mClearBitMask(\u001b[39mself\u001b[39;49m\u001b[39m.\u001b[39;49mCommIrqReg, \u001b[39m0x80\u001b[39;49m)\n\u001b[1;32m    203\u001b[0m \u001b[39mself\u001b[39m\u001b[39m.\u001b[39mSetBitMask(\u001b[39mself\u001b[39m\u001b[39m.\u001b[39mFIFOLevelReg, \u001b[39m0x80\u001b[39m)\n\u001b[1;32m    205\u001b[0m \u001b[39mself\u001b[39m\u001b[39m.\u001b[39mWrite_MFRC522(\u001b[39mself\u001b[39m\u001b[39m.\u001b[39mCommandReg, \u001b[39mself\u001b[39m\u001b[39m.\u001b[39mPCD_IDLE)\n",
      "File \u001b[0;32m~/Desktop/RFID-hand-tracker/.venv/lib/python3.11/site-packages/mfrc522/MFRC522.py:174\u001b[0m, in \u001b[0;36mMFRC522.ClearBitMask\u001b[0;34m(self, reg, mask)\u001b[0m\n\u001b[1;32m    173\u001b[0m \u001b[39mdef\u001b[39;00m \u001b[39mClearBitMask\u001b[39m(\u001b[39mself\u001b[39m, reg, mask):\n\u001b[0;32m--> 174\u001b[0m     tmp \u001b[39m=\u001b[39m \u001b[39mself\u001b[39;49m\u001b[39m.\u001b[39;49mRead_MFRC522(reg)\n\u001b[1;32m    175\u001b[0m     \u001b[39mself\u001b[39m\u001b[39m.\u001b[39mWrite_MFRC522(reg, tmp \u001b[39m&\u001b[39m (\u001b[39m~\u001b[39mmask))\n",
      "File \u001b[0;32m~/Desktop/RFID-hand-tracker/.venv/lib/python3.11/site-packages/mfrc522/MFRC522.py:162\u001b[0m, in \u001b[0;36mMFRC522.Read_MFRC522\u001b[0;34m(self, addr)\u001b[0m\n\u001b[1;32m    161\u001b[0m \u001b[39mdef\u001b[39;00m \u001b[39mRead_MFRC522\u001b[39m(\u001b[39mself\u001b[39m, addr):\n\u001b[0;32m--> 162\u001b[0m     val \u001b[39m=\u001b[39m \u001b[39mself\u001b[39;49m\u001b[39m.\u001b[39;49mspi\u001b[39m.\u001b[39;49mxfer2([((addr \u001b[39m<<\u001b[39;49m \u001b[39m1\u001b[39;49m) \u001b[39m&\u001b[39;49m \u001b[39m0x7E\u001b[39;49m) \u001b[39m|\u001b[39;49m \u001b[39m0x80\u001b[39;49m, \u001b[39m0\u001b[39;49m])\n\u001b[1;32m    163\u001b[0m     \u001b[39mreturn\u001b[39;00m val[\u001b[39m1\u001b[39m]\n",
      "\u001b[0;31mKeyboardInterrupt\u001b[0m: "
     ]
    }
   ],
   "source": [
    "import RPi.GPIO as GPIO\n",
    "from mfrc522 import SimpleMFRC522\n",
    "\n",
    "reader = SimpleMFRC522()\n",
    "\n",
    "try:\n",
    "    id, text= reader.read()\n",
    "    print(id)\n",
    "    print(text)\n",
    "\n",
    "finally:\n",
    "    GPIO.cleanup()"
   ]
  }
 ],
 "metadata": {
  "kernelspec": {
   "display_name": ".venv",
   "language": "python",
   "name": "python3"
  },
  "language_info": {
   "codemirror_mode": {
    "name": "ipython",
    "version": 3
   },
   "file_extension": ".py",
   "mimetype": "text/x-python",
   "name": "python",
   "nbconvert_exporter": "python",
   "pygments_lexer": "ipython3",
   "version": "3.11.2"
  }
 },
 "nbformat": 4,
 "nbformat_minor": 2
}
