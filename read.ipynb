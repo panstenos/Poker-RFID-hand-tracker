{
 "cells": [
  {
   "cell_type": "code",
   "execution_count": 1,
   "metadata": {},
   "outputs": [
    {
     "name": "stdout",
     "output_type": "stream",
     "text": [
      "Looking in indexes: https://pypi.org/simple, https://www.piwheels.org/simple\n",
      "Requirement already satisfied: SpiDev in ./.venv/lib/python3.11/site-packages (3.6)\n",
      "Note: you may need to restart the kernel to use updated packages.\n"
     ]
    }
   ],
   "source": [
    "%pip install SpiDev"
   ]
  },
  {
   "cell_type": "code",
   "execution_count": 1,
   "metadata": {},
   "outputs": [
    {
     "name": "stderr",
     "output_type": "stream",
     "text": [
      "/home/panstenos/Desktop/RFID-hand-tracker/.venv/lib/python3.11/site-packages/mfrc522/MFRC522.py:151: RuntimeWarning: This channel is already in use, continuing anyway.  Use GPIO.setwarnings(False) to disable warnings.\n",
      "  GPIO.setup(pin_rst, GPIO.OUT)\n"
     ]
    },
    {
     "name": "stdout",
     "output_type": "stream",
     "text": [
      "Place card on Reader\n"
     ]
    },
    {
     "name": "stdout",
     "output_type": "stream",
     "text": [
      "GPIO Good to Go\n"
     ]
    }
   ],
   "source": [
    "import time\n",
    "import RPi.GPIO as GPIO\n",
    "from mfrc522 import SimpleMFRC522\n",
    "import spidev\n",
    "\n",
    "reader = SimpleMFRC522()\n",
    "\n",
    "try:\n",
    "    while True:\n",
    "        print('Place card on Reader')\n",
    "        id, text = reader.read()\n",
    "        print('ID: {}'.format(id))\n",
    "        print('Text: {}'.format(text))\n",
    "\n",
    "except: # use Ctr+C to terminate the programm\n",
    "    GPIO.cleanup()\n",
    "    print('GPIO Good to Go')"
   ]
  }
 ],
 "metadata": {
  "kernelspec": {
   "display_name": ".venv",
   "language": "python",
   "name": "python3"
  },
  "language_info": {
   "codemirror_mode": {
    "name": "ipython",
    "version": 3
   },
   "file_extension": ".py",
   "mimetype": "text/x-python",
   "name": "python",
   "nbconvert_exporter": "python",
   "pygments_lexer": "ipython3",
   "version": "3.11.2"
  }
 },
 "nbformat": 4,
 "nbformat_minor": 2
}
