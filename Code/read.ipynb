{
 "cells": [
  {
   "cell_type": "code",
   "execution_count": 1,
   "metadata": {},
   "outputs": [
    {
     "name": "stdout",
     "output_type": "stream",
     "text": [
      "GPIO Good to Go\n"
     ]
    }
   ],
   "source": [
    "import time\n",
    "import RPi.GPIO as GPIO\n",
    "from mfrc522 import SimpleMFRC522\n",
    "import spidev\n",
    "\n",
    "reader = SimpleMFRC522()\n",
    "card_set = set()\n",
    "\n",
    "try:\n",
    "    while True:\n",
    "        #print('Place card on Reader')\n",
    "        id, text = reader.read()\n",
    "        #print('ID: {}'.format(id))\n",
    "        #print('Text: {}'.format(text))\n",
    "        card_set.add(id)\n",
    "\n",
    "except: # use Ctr+C to terminate the programm\n",
    "    GPIO.cleanup()\n",
    "    print('GPIO Good to Go')"
   ]
  },
  {
   "cell_type": "code",
   "execution_count": 6,
   "metadata": {},
   "outputs": [
    {
     "data": {
      "text/plain": [
       "{584195838806}"
      ]
     },
     "execution_count": 6,
     "metadata": {},
     "output_type": "execute_result"
    }
   ],
   "source": [
    "card_set"
   ]
  },
  {
   "cell_type": "code",
   "execution_count": 31,
   "metadata": {},
   "outputs": [
    {
     "data": {
      "text/plain": [
       "48"
      ]
     },
     "execution_count": 31,
     "metadata": {},
     "output_type": "execute_result"
    }
   ],
   "source": [
    "len(card_set)"
   ]
  },
  {
   "cell_type": "code",
   "execution_count": 2,
   "metadata": {},
   "outputs": [
    {
     "name": "stdout",
     "output_type": "stream",
     "text": [
      "['0x4', '0x89', '0xab', '0xae', '0xb2', '0x86', '0x56', '0x80', '0xe2', '0x48', '0x0', '0x0', '0x0', '0x0', '0x0', '0x0']\n",
      "['0x4', '0x89', '0xab', '0xae', '0xb2', '0x86', '0x56', '0x80', '0xe2', '0x48', '0x0', '0x0', '0x0', '0x0', '0x0', '0x0']\n",
      "['0x4', '0x89', '0xab', '0xae', '0xb2', '0x86', '0x56', '0x80', '0xe2', '0x48', '0x0', '0x0', '0x0', '0x0', '0x0', '0x0']\n",
      "['0x4', '0x89', '0xab', '0xae', '0xb2', '0x86', '0x56', '0x80', '0xe2', '0x48', '0x0', '0x0', '0x0', '0x0', '0x0', '0x0']\n",
      "['0x4', '0x89', '0xab', '0xae', '0xb2', '0x86', '0x56', '0x80', '0xe2', '0x48', '0x0', '0x0', '0x0', '0x0', '0x0', '0x0']\n",
      "['0x4', '0x89', '0xab', '0xae', '0xb2', '0x86', '0x56', '0x80', '0xe2', '0x48', '0x0', '0x0', '0x0', '0x0', '0x0', '0x0']\n",
      "['0x4', '0x89', '0xab', '0xae', '0xb2', '0x86', '0x56', '0x80', '0xe2', '0x48', '0x0', '0x0', '0x0', '0x0', '0x0', '0x0']\n",
      "['0x4', '0x89', '0xab', '0xae', '0xb2', '0x86', '0x56', '0x80', '0xe2', '0x48', '0x0', '0x0', '0x0', '0x0', '0x0', '0x0']\n",
      "['0x4', '0x89', '0xab', '0xae', '0xb2', '0x86', '0x56', '0x80', '0xe2', '0x48', '0x0', '0x0', '0x0', '0x0', '0x0', '0x0']\n",
      "['0x4', '0x89', '0xab', '0xae', '0xb2', '0x86', '0x56', '0x80', '0xe2', '0x48', '0x0', '0x0', '0x0', '0x0', '0x0', '0x0']\n",
      "['0x4', '0x89', '0xab', '0xae', '0xb2', '0x86', '0x56', '0x80', '0xe2', '0x48', '0x0', '0x0', '0x0', '0x0', '0x0', '0x0']\n",
      "['0x4', '0x89', '0xab', '0xae', '0xb2', '0x86', '0x56', '0x80', '0xe2', '0x48', '0x0', '0x0', '0x0', '0x0', '0x0', '0x0']\n",
      "['0x4', '0x89', '0xab', '0xae', '0xb2', '0x86', '0x56', '0x80', '0xe2', '0x48', '0x0', '0x0', '0x0', '0x0', '0x0', '0x0']\n",
      "['0x4', '0x89', '0xab', '0xae', '0xb2', '0x86', '0x56', '0x80', '0xe2', '0x48', '0x0', '0x0', '0x0', '0x0', '0x0', '0x0']\n",
      "['0x4', '0x89', '0xab', '0xae', '0xb2', '0x86', '0x56', '0x80', '0xe2', '0x48', '0x0', '0x0', '0x0', '0x0', '0x0', '0x0']\n",
      "['0x4', '0x89', '0xab', '0xae', '0xb2', '0x86', '0x56', '0x80', '0xe2', '0x48', '0x0', '0x0', '0x0', '0x0', '0x0', '0x0']\n",
      "['0x4', '0x89', '0xab', '0xae', '0xb2', '0x86', '0x56', '0x80', '0xe2', '0x48', '0x0', '0x0', '0x0', '0x0', '0x0', '0x0']\n",
      "['0x4', '0x89', '0xab', '0xae', '0xb2', '0x86', '0x56', '0x80', '0xe2', '0x48', '0x0', '0x0', '0x0', '0x0', '0x0', '0x0']\n",
      "['0x4', '0x89', '0xab', '0xae', '0xb2', '0x86', '0x56', '0x80', '0xe2', '0x48', '0x0', '0x0', '0x0', '0x0', '0x0', '0x0']\n",
      "['0x4', '0x89', '0xab', '0xae', '0xb2', '0x86', '0x56', '0x80', '0xe2', '0x48', '0x0', '0x0', '0x0', '0x0', '0x0', '0x0']\n",
      "['0x4', '0x89', '0xab', '0xae', '0xb2', '0x86', '0x56', '0x80', '0xe2', '0x48', '0x0', '0x0', '0x0', '0x0', '0x0', '0x0']\n",
      "['0x4', '0x89', '0xab', '0xae', '0xb2', '0x86', '0x56', '0x80', '0xe2', '0x48', '0x0', '0x0', '0x0', '0x0', '0x0', '0x0']\n",
      "['0x4', '0x89', '0xab', '0xae', '0xb2', '0x86', '0x56', '0x80', '0xe2', '0x48', '0x0', '0x0', '0x0', '0x0', '0x0', '0x0']\n",
      "['0x4', '0x89', '0xab', '0xae', '0xb2', '0x86', '0x56', '0x80', '0xe2', '0x48', '0x0', '0x0', '0x0', '0x0', '0x0', '0x0']\n",
      "['0x4', '0x89', '0xab', '0xae', '0xb2', '0x86', '0x56', '0x80', '0xe2', '0x48', '0x0', '0x0', '0x0', '0x0', '0x0', '0x0']\n",
      "['0x4', '0x89', '0xab', '0xae', '0xb2', '0x86', '0x56', '0x80', '0xe2', '0x48', '0x0', '0x0', '0x0', '0x0', '0x0', '0x0']\n",
      "['0x4', '0x89', '0xab', '0xae', '0xb2', '0x86', '0x56', '0x80', '0xe2', '0x48', '0x0', '0x0', '0x0', '0x0', '0x0', '0x0']\n",
      "['0x4', '0x89', '0xab', '0xae', '0xb2', '0x86', '0x56', '0x80', '0xe2', '0x48', '0x0', '0x0', '0x0', '0x0', '0x0', '0x0']\n",
      "['0x4', '0x89', '0xab', '0xae', '0xb2', '0x86', '0x56', '0x80', '0xe2', '0x48', '0x0', '0x0', '0x0', '0x0', '0x0', '0x0']\n",
      "['0x4', '0x89', '0xab', '0xae', '0xb2', '0x86', '0x56', '0x80', '0xe2', '0x48', '0x0', '0x0', '0x0', '0x0', '0x0', '0x0']\n",
      "['0x4', '0x89', '0xab', '0xae', '0xb2', '0x86', '0x56', '0x80', '0xe2', '0x48', '0x0', '0x0', '0x0', '0x0', '0x0', '0x0']\n",
      "['0x4', '0x89', '0xab', '0xae', '0xb2', '0x86', '0x56', '0x80', '0xe2', '0x48', '0x0', '0x0', '0x0', '0x0', '0x0', '0x0']\n",
      "['0x4', '0x89', '0xab', '0xae', '0xb2', '0x86', '0x56', '0x80', '0xe2', '0x48', '0x0', '0x0', '0x0', '0x0', '0x0', '0x0']\n",
      "['0x4', '0x89', '0xab', '0xae', '0xb2', '0x86', '0x56', '0x80', '0xe2', '0x48', '0x0', '0x0', '0x0', '0x0', '0x0', '0x0']\n",
      "['0x4', '0x89', '0xab', '0xae', '0xb2', '0x86', '0x56', '0x80', '0xe2', '0x48', '0x0', '0x0', '0x0', '0x0', '0x0', '0x0']\n",
      "['0x4', '0x89', '0xab', '0xae', '0xb2', '0x86', '0x56', '0x80', '0xe2', '0x48', '0x0', '0x0', '0x0', '0x0', '0x0', '0x0']\n",
      "GPIO Good to Go\n"
     ]
    }
   ],
   "source": [
    "# Import required libraries\n",
    "import RPi.GPIO as GPIO\n",
    "from mfrc522 import MFRC522\n",
    "from mfrc522 import SimpleMFRC522\n",
    "from time import sleep\n",
    "from datetime import datetime\n",
    "\n",
    "\n",
    "reader = MFRC522()\n",
    "card_set = set()\n",
    "\n",
    "# Main loop\n",
    "try:\n",
    "    while True:\n",
    "        status, _ = reader.MFRC522_Request(reader.PICC_REQIDL)\n",
    "        if status != reader.MI_OK:\n",
    "            sleep(0.1)\n",
    "            continue\n",
    "        status, backData = reader.MFRC522_Anticoll()\n",
    "        buf = reader.MFRC522_Read(0)\n",
    "        reader.MFRC522_Request(reader.PICC_HALT)\n",
    "        if buf:\n",
    "            #print(datetime.now().isoformat(), ':'.join([hex(x) for x in buf]))\n",
    "            print([hex(x) for x in buf])\n",
    "            #card_set.add(buf)\n",
    "            #print(len(card_set))\n",
    "\n",
    "except:\n",
    "        GPIO.cleanup()\n",
    "        print('GPIO Good to Go')"
   ]
  },
  {
   "cell_type": "markdown",
   "metadata": {},
   "source": [
    "# Reading Card IDs and to label them"
   ]
  },
  {
   "cell_type": "code",
   "execution_count": 3,
   "metadata": {},
   "outputs": [
    {
     "name": "stdout",
     "output_type": "stream",
     "text": [
      "ID: 6129619713795333208252505308576874496\n",
      "ID: 6129619713795333208252505308576874496\n",
      "ID: 6129619713795333208252505308576874496\n",
      "ID: 6129619713795333208252505308576874496\n",
      "ID: 6129619713795333208252505308576874496\n",
      "ID: 6129619713795333208252505308576874496\n",
      "ID: 6129619713795333208252505308576874496\n",
      "ID: 6129619713795333208252505308576874496\n",
      "ID: 6129619713795333208252505308576874496\n",
      "ID: 6355640865078076339367316367568011264\n",
      "ID: 6355640865078076339367316367568011264\n",
      "ID: 6355640865078076339367316367568011264\n",
      "ID: 6355640865078076339367316367568011264\n",
      "ID: 6355640865078076339367316367568011264\n",
      "ID: 6355640865078076339367316367568011264\n",
      "ID: 6355640865078076339367316367568011264\n",
      "ID: 6355640865078076339367316367568011264\n",
      "GPIO Good to Go\n"
     ]
    }
   ],
   "source": [
    "# Import required libraries\n",
    "import RPi.GPIO as GPIO\n",
    "from mfrc522 import MFRC522\n",
    "from time import sleep\n",
    "from datetime import datetime\n",
    "\n",
    "\n",
    "reader = MFRC522()\n",
    "card_set = set()\n",
    "ID_list = []\n",
    "\n",
    "def append_unique(ID):\n",
    "    if ID not in ID_list:\n",
    "        ID_list.append(ID)\n",
    "\n",
    "# Main loop\n",
    "try:\n",
    "    while True:\n",
    "        status, _ = reader.MFRC522_Request(reader.PICC_REQIDL)\n",
    "        if status != reader.MI_OK:\n",
    "            sleep(0.1)\n",
    "            continue\n",
    "        status, backData = reader.MFRC522_Anticoll()\n",
    "        buf = reader.MFRC522_Read(0)\n",
    "        reader.MFRC522_Request(reader.PICC_HALT)\n",
    "        if buf:\n",
    "            # Convert the buffer to an integer\n",
    "            card_id = int.from_bytes(buf, byteorder='big')\n",
    "            print(\"ID:\", card_id)\n",
    "            append_unique(card_id)\n",
    "            # Uncomment the next line if you want to store card IDs in a set\n",
    "            # card_set.add(card_id)\n",
    "            # print(len(card_set))\n",
    "\n",
    "except:\n",
    "        GPIO.cleanup()\n",
    "        print('GPIO Good to Go')"
   ]
  },
  {
   "cell_type": "code",
   "execution_count": 7,
   "metadata": {},
   "outputs": [
    {
     "data": {
      "text/plain": [
       "[6102946126777980862243562053905154048,\n",
       " 6182806846941759086308452859140636672,\n",
       " 6342293217311135712148594424710955008,\n",
       " 6364131668026567534162878879181570048,\n",
       " 6202145015304565754356960253626548224,\n",
       " 6184395213143845057748528228256972800,\n",
       " 6201091914568426152781666867438682112,\n",
       " 6201941715839554152066695219849986048,\n",
       " 6181665327576253565732405077904195584,\n",
       " 6357463271272229447660643065513639936,\n",
       " 6322105247677201044815058677813739520,\n",
       " 6327827818627443843655102763802558464,\n",
       " 6307010302014170831895048716675973120]"
      ]
     },
     "execution_count": 7,
     "metadata": {},
     "output_type": "execute_result"
    }
   ],
   "source": [
    "ID_list"
   ]
  },
  {
   "cell_type": "code",
   "execution_count": 51,
   "metadata": {},
   "outputs": [
    {
     "data": {
      "text/plain": [
       "51"
      ]
     },
     "execution_count": 51,
     "metadata": {},
     "output_type": "execute_result"
    }
   ],
   "source": [
    "len(ID_list)"
   ]
  },
  {
   "cell_type": "markdown",
   "metadata": {},
   "source": [
    "9 of spades seems to be broken"
   ]
  }
 ],
 "metadata": {
  "kernelspec": {
   "display_name": ".venv",
   "language": "python",
   "name": "python3"
  },
  "language_info": {
   "codemirror_mode": {
    "name": "ipython",
    "version": 3
   },
   "file_extension": ".py",
   "mimetype": "text/x-python",
   "name": "python",
   "nbconvert_exporter": "python",
   "pygments_lexer": "ipython3",
   "version": "3.11.2"
  }
 },
 "nbformat": 4,
 "nbformat_minor": 2
}
