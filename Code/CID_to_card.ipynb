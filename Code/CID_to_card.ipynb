{
 "cells": [
  {
   "cell_type": "markdown",
   "metadata": {},
   "source": [
    "# 6102946126777980862243562053905154048 -> Ah\n",
    "\n",
    "In this notebook I read all the cards' CIDs and map them to the respective card value and suit. In that way when the card is readed, useful information is displayed."
   ]
  },
  {
   "cell_type": "markdown",
   "metadata": {},
   "source": [
    "## Reading card IDs\n",
    "\n",
    "I will read and label each suit seperately to be able to catch errors easily and fix them quickly."
   ]
  },
  {
   "cell_type": "markdown",
   "metadata": {},
   "source": [
    "## Required Dependencies"
   ]
  },
  {
   "cell_type": "code",
   "execution_count": 3,
   "metadata": {},
   "outputs": [],
   "source": [
    "# Import required libraries\n",
    "import RPi.GPIO as GPIO\n",
    "from mfrc522 import MFRC522\n",
    "from time import sleep\n",
    "from datetime import datetime\n",
    "import csv"
   ]
  },
  {
   "cell_type": "code",
   "execution_count": 2,
   "metadata": {},
   "outputs": [],
   "source": [
    "def read_cards(csvfilename):\n",
    "\n",
    "    reader = MFRC522()\n",
    "    card_set = set()\n",
    "    ID_list = []\n",
    "\n",
    "    def append_unique(ID):\n",
    "        if ID not in ID_list:\n",
    "            ID_list.append(ID)\n",
    "\n",
    "    # Main loop\n",
    "    try:\n",
    "        while True:\n",
    "            status, _ = reader.MFRC522_Request(reader.PICC_REQIDL)\n",
    "            if status != reader.MI_OK:\n",
    "                sleep(0.1)\n",
    "                continue\n",
    "            status, backData = reader.MFRC522_Anticoll()\n",
    "            buf = reader.MFRC522_Read(0)\n",
    "            reader.MFRC522_Request(reader.PICC_HALT)\n",
    "            if buf:\n",
    "                # Convert the buffer to an integer\n",
    "                card_id = int.from_bytes(buf, byteorder='big')\n",
    "                print(\"ID:\", card_id)\n",
    "                append_unique(card_id)\n",
    "                # Uncomment the next line if you want to store card IDs in a set\n",
    "                # card_set.add(card_id)\n",
    "                # print(len(card_set))\n",
    "\n",
    "    except:\n",
    "            GPIO.cleanup()\n",
    "            print('GPIO Good to Go')\n",
    "\n",
    "    with open(csvfilename, 'w', newline='') as file:\n",
    "        writer = csv.writer(file)\n",
    "        writer.writerow(ID_list)\n",
    "\n",
    "    print('Data added to new csv file')\n",
    "    return ID_list"
   ]
  },
  {
   "cell_type": "code",
   "execution_count": 11,
   "metadata": {},
   "outputs": [
    {
     "name": "stdout",
     "output_type": "stream",
     "text": [
      "ID: 6320690945748158912124676324756291584\n",
      "ID: 6320690945748158912124676324756291584\n",
      "ID: 6320690945748158912124676324756291584\n",
      "ID: 6320690945748158912124676324756291584\n",
      "ID: 6320690945748158912124676324756291584\n",
      "ID: 6320690945748158912124676324756291584\n",
      "ID: 6320690945748158912124676324756291584\n",
      "ID: 6320690945748158912124676324756291584\n",
      "ID: 6320690945748158912124676324756291584\n",
      "ID: 6320690945748158912124676324756291584\n",
      "ID: 6293978853843824633647662607724707840\n",
      "ID: 6293978853843824633647662607724707840\n",
      "ID: 6293978853843824633647662607724707840\n",
      "ID: 6293978853843824633647662607724707840\n",
      "ID: 6293978853843824633647662607724707840\n",
      "ID: 6293978853843824633647662607724707840\n",
      "ID: 6293978853843824633647662607724707840\n",
      "ID: 6293978853843824633647662607724707840\n",
      "ID: 6293978853843824633647662607724707840\n",
      "ID: 6300311323189102239358501795043213312\n",
      "ID: 6300311323189102239358501795043213312\n",
      "ID: 6300311323189102239358501795043213312\n",
      "ID: 6300311323189102239358501795043213312\n",
      "ID: 6300311323189102239358501795043213312\n",
      "ID: 6300311323189102239358501795043213312\n",
      "ID: 6300311323189102239358501795043213312\n",
      "ID: 6031738785752173103394975712469319680\n",
      "ID: 6031738785752173103394975712469319680\n",
      "ID: 6031738785752173103394975712469319680\n",
      "ID: 6019703948638093836250178792869330944\n",
      "ID: 6019703948638093836250178792869330944\n",
      "ID: 6019703948638093836250178792869330944\n",
      "ID: 6019703948638093836250178792869330944\n",
      "ID: 6019703948638093836250178792869330944\n",
      "ID: 6019703948638093836250178792869330944\n",
      "ID: 6019703948638093836250178792869330944\n",
      "ID: 6019703948638093836250178792869330944\n",
      "ID: 6019703948638093836250178792869330944\n",
      "ID: 6107993119186464529076945990629457920\n",
      "ID: 6107993119186464529076945990629457920\n",
      "ID: 6107993119186464529076945990629457920\n",
      "ID: 6107993119186464529076945990629457920\n",
      "ID: 6107993119186464529076945990629457920\n",
      "ID: 6107993119186464529076945990629457920\n",
      "ID: 6305221013191948686094836120101584896\n",
      "ID: 6305221013191948686094836120101584896\n",
      "ID: 6305221013191948686094836120101584896\n",
      "ID: 6305221013191948686094836120101584896\n",
      "ID: 6305221013191948686094836120101584896\n",
      "ID: 6305221013191948686094836120101584896\n",
      "ID: 6305221013191948686094836120101584896\n",
      "ID: 6305221013191948686094836120101584896\n",
      "ID: 6305221013191948686094836120101584896\n",
      "ID: 6305221013191948686094836120101584896\n",
      "ID: 6305221013191948686094836120101584896\n",
      "ID: 6165886642870725251578962832475029504\n",
      "ID: 6165886642870725251578962832475029504\n",
      "ID: 6165886642870725251578962832475029504\n",
      "ID: 6165886642870725251578962832475029504\n",
      "ID: 6165886642870725251578962832475029504\n",
      "ID: 6165886642870725251578962832475029504\n",
      "ID: 6165886642870725251578962832475029504\n",
      "ID: 6165886642870725251578962832475029504\n",
      "ID: 6165886642870725251578962832475029504\n",
      "ID: 6165886642870725251578962832475029504\n",
      "ID: 6165886642870725251578962832475029504\n",
      "ID: 6165886642870725251578962832475029504\n",
      "ID: 6263581463960139349507485193843245056\n",
      "ID: 6263581463960139349507485193843245056\n",
      "ID: 6263581463960139349507485193843245056\n",
      "ID: 6263581463960139349507485193843245056\n",
      "ID: 6263581463960139349507485193843245056\n",
      "ID: 6263581463960139349507485193843245056\n",
      "ID: 6263581463960139349507485193843245056\n",
      "ID: 6263581463960139349507485193843245056\n",
      "ID: 6263581463960139349507485193843245056\n",
      "ID: 6263581463960139349507485193843245056\n",
      "ID: 6263581463960139349507485193843245056\n",
      "ID: 6263581463960139349507485193843245056\n",
      "ID: 6036360243699792656471144724636368896\n",
      "ID: 6036360243699792656471144724636368896\n",
      "ID: 6036360243699792656471144724636368896\n",
      "ID: 6036360243699792656471144724636368896\n",
      "ID: 6036360243699792656471144724636368896\n",
      "ID: 6036360243699792656471144724636368896\n",
      "ID: 6036360243699792656471144724636368896\n",
      "ID: 6036360243699792656471144724636368896\n",
      "ID: 6036360243699792656471144724636368896\n",
      "ID: 6036360243699792656471144724636368896\n",
      "ID: 6036360243699792656471144724636368896\n",
      "ID: 6036360243699792656471144724636368896\n",
      "ID: 6036360243699792656471144724636368896\n",
      "ID: 6036360243699792656471144724636368896\n",
      "ID: 6036360243699792656471144724636368896\n",
      "ID: 6036360243699792656471144724636368896\n",
      "ID: 6036360243699792656471144724636368896\n",
      "ID: 6151239336325900632166356394656661504\n",
      "ID: 6151239336325900632166356394656661504\n",
      "ID: 6151239336325900632166356394656661504\n",
      "ID: 6151239336325900632166356394656661504\n",
      "ID: 6151239336325900632166356394656661504\n",
      "ID: 6151239336325900632166356394656661504\n",
      "ID: 6151239336325900632166356394656661504\n",
      "ID: 6151239336325900632166356394656661504\n",
      "ID: 6151239336325900632166356394656661504\n",
      "ID: 6151239336325900632166356394656661504\n",
      "ID: 6151239336325900632166356394656661504\n",
      "ID: 6057394766250192238251867488642924544\n",
      "ID: 6057394766250192238251867488642924544\n",
      "ID: 6057394766250192238251867488642924544\n",
      "ID: 6057394766250192238251867488642924544\n",
      "ID: 6057394766250192238251867488642924544\n",
      "ID: 6057394766250192238251867488642924544\n",
      "ID: 6057394766250192238251867488642924544\n",
      "ID: 6057394766250192238251867488642924544\n",
      "ID: 6057394766250192238251867488642924544\n",
      "ID: 6057394766250192238251867488642924544\n",
      "ID: 6057394766250192238251867488642924544\n",
      "ID: 6151504037616860789318256424994734080\n",
      "ID: 6151504037616860789318256424994734080\n",
      "ID: 6151504037616860789318256424994734080\n",
      "ID: 6151504037616860789318256424994734080\n",
      "ID: 6151504037616860789318256424994734080\n",
      "ID: 6151504037616860789318256424994734080\n",
      "ID: 6151504037616860789318256424994734080\n",
      "ID: 6151504037616860789318256424994734080\n",
      "ID: 6151504037616860789318256424994734080\n",
      "ID: 6151504037616860789318256424994734080\n",
      "ID: 6151504037616860789318256424994734080\n",
      "GPIO Good to Go\n",
      "Data added to new csv file\n"
     ]
    }
   ],
   "source": [
    "# repeat 4 times, 1 time for each suit\n",
    "data = read_cards('spades.csv')"
   ]
  },
  {
   "cell_type": "code",
   "execution_count": 12,
   "metadata": {},
   "outputs": [
    {
     "data": {
      "text/plain": [
       "13"
      ]
     },
     "execution_count": 12,
     "metadata": {},
     "output_type": "execute_result"
    }
   ],
   "source": [
    "len(data)"
   ]
  },
  {
   "cell_type": "markdown",
   "metadata": {},
   "source": [
    "### Read the csv files and map the IDs "
   ]
  },
  {
   "cell_type": "code",
   "execution_count": 5,
   "metadata": {},
   "outputs": [],
   "source": [
    "def open_and_read_csv(csvfilename):\n",
    "    with open(csvfilename, 'r', newline='') as file:\n",
    "        reader = csv.reader(file)\n",
    "        data = list(reader)[0]\n",
    "    \n",
    "    return data"
   ]
  },
  {
   "cell_type": "code",
   "execution_count": 19,
   "metadata": {},
   "outputs": [],
   "source": [
    "card_list = []\n",
    "for item in['spades.csv', 'hearts.csv', 'clubs.csv', 'diamonds.csv']:\n",
    "    card_list.extend(open_and_read_csv(item))"
   ]
  },
  {
   "cell_type": "code",
   "execution_count": 20,
   "metadata": {},
   "outputs": [
    {
     "data": {
      "text/plain": [
       "['6320690945748158912124676324756291584',\n",
       " '6293978853843824633647662607724707840',\n",
       " '6300311323189102239358501795043213312',\n",
       " '6031738785752173103394975712469319680',\n",
       " '6019703948638093836250178792869330944',\n",
       " '6107993119186464529076945990629457920',\n",
       " '6305221013191948686094836120101584896',\n",
       " '6165886642870725251578962832475029504',\n",
       " '6263581463960139349507485193843245056',\n",
       " '6036360243699792656471144724636368896',\n",
       " '6151239336325900632166356394656661504',\n",
       " '6057394766250192238251867488642924544',\n",
       " '6151504037616860789318256424994734080',\n",
       " '6102946126777980862243562053905154048',\n",
       " '6182806846941759086308452859140636672',\n",
       " '6342293217311135712148594424710955008',\n",
       " '6364131668026567534162878879181570048',\n",
       " '6202145015304565754356960253626548224',\n",
       " '6184395213143845057748528228256972800',\n",
       " '6201091914568426152781666867438682112',\n",
       " '6201941715839554152066695219849986048',\n",
       " '6181665327576253565732405077904195584',\n",
       " '6357463271272229447660643065513639936',\n",
       " '6322105247677201044815058677813739520',\n",
       " '6327827818627443843655102763802558464',\n",
       " '6307010302014170831895048716675973120',\n",
       " '6372430025768311580882426672539762688',\n",
       " '6020986890273687318668831050057121792',\n",
       " '6273723461043590327362834754925756416',\n",
       " '6317339356789317987851456635025227776',\n",
       " '6087774012884661755858735980959760384',\n",
       " '6026872354326059444986967462407831552',\n",
       " '6161320565408703169274771707529265152',\n",
       " '6091152777103245072799750256265789440',\n",
       " '6129619713795333208252505308576874496',\n",
       " '6035424559100499194644164970582900736',\n",
       " '6362961071925419278574934267315355648',\n",
       " '6322226149853197812194226425881952256',\n",
       " '6337540002929254937479007348954497024',\n",
       " '6341765082379815626074195860738015232',\n",
       " '6355743307092207283155824819895795712',\n",
       " '6129352477203172594641802284832391168',\n",
       " '6200678977385401807054129316369530880',\n",
       " '6360955886360345762454779263476301824',\n",
       " '6355640865078076339367316367568011264',\n",
       " '6117483543861398197019926246264406016',\n",
       " '6067453732219328267081419015665483776',\n",
       " '6070792406987679366267610957732642816',\n",
       " '6195548320037303077080246597233672192',\n",
       " '6340512802043115163954192305059004416',\n",
       " '6337721990018550202662459719408418816',\n",
       " '6151178251412602134362071772270952448']"
      ]
     },
     "execution_count": 20,
     "metadata": {},
     "output_type": "execute_result"
    }
   ],
   "source": [
    "card_list"
   ]
  },
  {
   "cell_type": "code",
   "execution_count": 21,
   "metadata": {},
   "outputs": [],
   "source": [
    "decoder_list = ['As', '2s', '3s', '4s', '5s', '6s', '7s', '8s', '9s', 'Ts', 'Js', 'Qs', 'Ks', \n",
    "                'Ah', '2h', '3h', '4h', '5h', '6h', '7h', '8h', '9h', 'Th', 'Jh', 'Qh', 'Kh', \n",
    "                'Ac', '2c', '3c', '4c', '5c', '6c', '7c', '8c', '9c', 'Tc', 'Jc', 'Qc', 'Kc', \n",
    "                'Ad', '2d', '3d', '4d', '5d', '6d', '7d', '8d', '9d', 'Td', 'Jd', 'Qd', 'Kd']"
   ]
  },
  {
   "cell_type": "markdown",
   "metadata": {},
   "source": [
    "## Save the lists \n",
    "\n",
    "csv files were moved to new directory"
   ]
  },
  {
   "cell_type": "code",
   "execution_count": 22,
   "metadata": {},
   "outputs": [],
   "source": [
    "with open('ID_list.csv', 'w', newline='') as file:\n",
    "    writer = csv.writer(file)\n",
    "    writer.writerow(card_list)"
   ]
  },
  {
   "cell_type": "code",
   "execution_count": 23,
   "metadata": {},
   "outputs": [],
   "source": [
    "with open('decoder_list.csv', 'w', newline='') as file:\n",
    "    writer = csv.writer(file)\n",
    "    writer.writerow(decoder_list)"
   ]
  },
  {
   "cell_type": "code",
   "execution_count": 6,
   "metadata": {},
   "outputs": [],
   "source": [
    "card_IDs =  open_and_read_csv('/home/panstenos/Desktop/RFID-hand-tracker/Data/ID_list.csv')\n",
    "card_IDs = [int(item) for item in card_IDs]\n",
    "decoder_list = open_and_read_csv('/home/panstenos/Desktop/RFID-hand-tracker/Data/decoder_list.csv')"
   ]
  },
  {
   "cell_type": "code",
   "execution_count": 34,
   "metadata": {},
   "outputs": [
    {
     "data": {
      "text/plain": [
       "[6320690945748158912124676324756291584,\n",
       " 6293978853843824633647662607724707840,\n",
       " 6300311323189102239358501795043213312,\n",
       " 6031738785752173103394975712469319680,\n",
       " 6019703948638093836250178792869330944,\n",
       " 6107993119186464529076945990629457920,\n",
       " 6305221013191948686094836120101584896,\n",
       " 6165886642870725251578962832475029504,\n",
       " 6263581463960139349507485193843245056,\n",
       " 6036360243699792656471144724636368896,\n",
       " 6151239336325900632166356394656661504,\n",
       " 6057394766250192238251867488642924544,\n",
       " 6151504037616860789318256424994734080,\n",
       " 6102946126777980862243562053905154048,\n",
       " 6182806846941759086308452859140636672,\n",
       " 6342293217311135712148594424710955008,\n",
       " 6364131668026567534162878879181570048,\n",
       " 6202145015304565754356960253626548224,\n",
       " 6184395213143845057748528228256972800,\n",
       " 6201091914568426152781666867438682112,\n",
       " 6201941715839554152066695219849986048,\n",
       " 6181665327576253565732405077904195584,\n",
       " 6357463271272229447660643065513639936,\n",
       " 6322105247677201044815058677813739520,\n",
       " 6327827818627443843655102763802558464,\n",
       " 6307010302014170831895048716675973120,\n",
       " 6372430025768311580882426672539762688,\n",
       " 6020986890273687318668831050057121792,\n",
       " 6273723461043590327362834754925756416,\n",
       " 6317339356789317987851456635025227776,\n",
       " 6087774012884661755858735980959760384,\n",
       " 6026872354326059444986967462407831552,\n",
       " 6161320565408703169274771707529265152,\n",
       " 6091152777103245072799750256265789440,\n",
       " 6129619713795333208252505308576874496,\n",
       " 6035424559100499194644164970582900736,\n",
       " 6362961071925419278574934267315355648,\n",
       " 6322226149853197812194226425881952256,\n",
       " 6337540002929254937479007348954497024,\n",
       " 6341765082379815626074195860738015232,\n",
       " 6355743307092207283155824819895795712,\n",
       " 6129352477203172594641802284832391168,\n",
       " 6200678977385401807054129316369530880,\n",
       " 6360955886360345762454779263476301824,\n",
       " 6355640865078076339367316367568011264,\n",
       " 6117483543861398197019926246264406016,\n",
       " 6067453732219328267081419015665483776,\n",
       " 6070792406987679366267610957732642816,\n",
       " 6195548320037303077080246597233672192,\n",
       " 6340512802043115163954192305059004416,\n",
       " 6337721990018550202662459719408418816,\n",
       " 6151178251412602134362071772270952448]"
      ]
     },
     "execution_count": 34,
     "metadata": {},
     "output_type": "execute_result"
    }
   ],
   "source": [
    "card_IDs"
   ]
  },
  {
   "cell_type": "code",
   "execution_count": 11,
   "metadata": {},
   "outputs": [],
   "source": [
    "from IPython.display import clear_output\n",
    "import os"
   ]
  },
  {
   "cell_type": "code",
   "execution_count": 16,
   "metadata": {},
   "outputs": [
    {
     "name": "stdout",
     "output_type": "stream",
     "text": [
      "GPIO Good to Go\n"
     ]
    }
   ],
   "source": [
    "reader = MFRC522()\n",
    "card_set = set()\n",
    "\n",
    "player_hand = [0, 0, 0]  # List that contains the player's hand\n",
    "holder_list = []\n",
    "\n",
    "game_start_time = datetime.now()\n",
    "base_dir = '/home/panstenos/Desktop/RFID-hand-tracker/Data'\n",
    "file_path = os.path.join(base_dir, game_start_time.strftime('%d_%m_%Y')+'.csv')\n",
    "\n",
    "def read_newID(newID, time_now, player_hand=player_hand, holder_list=holder_list):\n",
    "    if len(holder_list) == 0:\n",
    "        holder_list.extend([newID, time_now])  # Initialize the list with the recent data\n",
    "    else:\n",
    "        seconds_elapsed = (time_now - holder_list[1]).total_seconds()\n",
    "        if seconds_elapsed > 5:\n",
    "            holder_list = [newID, time_now]  # Over-write the list in-place\n",
    "        else:\n",
    "            if newID == holder_list[0]:\n",
    "                holder_list[1] = time_now  # Update the time\n",
    "            else:  # That is if there is a new value and the timestamps are within 5s\n",
    "                if newID not in player_hand and holder_list[0] not in player_hand:\n",
    "                    player_hand = [holder_list[0], newID, time_now]  # Update player_hand in-place\n",
    "\n",
    "    # Ensure the function always returns a value\n",
    "    return player_hand, holder_list\n",
    "\n",
    "\n",
    "def IDs_to_values(IDs, card_IDs=card_IDs, decoder_list=decoder_list):\n",
    "\n",
    "    if len(IDs) != 0:\n",
    "        # Check if the input is a list; if not, wrap it into a list\n",
    "        if not isinstance(IDs, list):\n",
    "            IDs = [IDs]\n",
    "        \n",
    "        # Convert each ID in the list to its corresponding value\n",
    "        values = [decoder_list[card_IDs.index(ID)] for ID in IDs if ID in card_IDs]\n",
    "        return values\n",
    "\n",
    "# helper function for debugging\n",
    "def display_cards(current_cards, timestamp):\n",
    "    if len(current_cards) != 0:\n",
    "        print(\"Hand: {}\".format(current_cards), \"Time: {}\".format(timestamp))\n",
    "        #clear_output(wait=True)\n",
    "\n",
    "def write_history(current_cards, timestamp, file_path):\n",
    "    if len(current_cards) != 0:\n",
    "        with open(file_path, 'a', newline='') as file:\n",
    "            writer = csv.writer(file)\n",
    "            row = current_cards + [timestamp]\n",
    "            writer.writerow(row)\n",
    "            #writer.writerow([current_cards.append(timestamp)])\n",
    "\n",
    "# Initialize csv file with headers\n",
    "    with open(file_path, 'w', newline='') as file:\n",
    "        writer = csv.writer(file)\n",
    "        writer.writerow(['Card1', 'Card2', 'Timestamp'])\n",
    "\n",
    "# Main loop\n",
    "try:\n",
    "    while True:\n",
    "        status, _ = reader.MFRC522_Request(reader.PICC_REQIDL)\n",
    "        if status != reader.MI_OK:\n",
    "            sleep(0.2)\n",
    "            continue\n",
    "        status, backData = reader.MFRC522_Anticoll()\n",
    "        buf = reader.MFRC522_Read(0)\n",
    "        reader.MFRC522_Request(reader.PICC_HALT)\n",
    "        if buf:\n",
    "            # Convert the buffer to an integer\n",
    "            card_id, time_now = int.from_bytes(buf, byteorder='big'), datetime.now()\n",
    "            player_hand, holder_list = read_newID(card_id, time_now, player_hand, holder_list)\n",
    "            current_cards = IDs_to_values(player_hand[:2])\n",
    "            display_cards(current_cards, player_hand[2])\n",
    "        write_history(current_cards, player_hand[2])\n",
    "\n",
    "except:\n",
    "        GPIO.cleanup()\n",
    "        print('GPIO Good to Go')"
   ]
  },
  {
   "cell_type": "code",
   "execution_count": null,
   "metadata": {},
   "outputs": [],
   "source": [
    "def write_history(current_cards, timestamp):\n",
    "    if len(current_cards) != 0:\n",
    "        writer.writerow([current_cards.append(timestamp)])          \n",
    "\n",
    "# write card history to csv file\n",
    "base_dir = '/home/panstenos/Desktop/RFID-hand-tracker/Data'\n",
    "file_dir = os.path.join(base_dir, game_start_time.strftime('%d_%m_%Y')+'.csv')\n",
    "\n",
    "with open(file_dir, 'w', newline='') as file:\n",
    "    writer = csv.writer(file)\n",
    "    write_history(current_cards, player_hand[2])"
   ]
  },
  {
   "cell_type": "code",
   "execution_count": 140,
   "metadata": {},
   "outputs": [],
   "source": [
    "current_cards.append(player_hand[2])"
   ]
  },
  {
   "cell_type": "code",
   "execution_count": 141,
   "metadata": {},
   "outputs": [
    {
     "data": {
      "text/plain": [
       "['2s', 'As', datetime.datetime(2024, 4, 4, 22, 5, 32, 233259)]"
      ]
     },
     "execution_count": 141,
     "metadata": {},
     "output_type": "execute_result"
    }
   ],
   "source": [
    "current_cards"
   ]
  },
  {
   "cell_type": "code",
   "execution_count": 144,
   "metadata": {},
   "outputs": [
    {
     "data": {
      "text/plain": [
       "['']"
      ]
     },
     "execution_count": 144,
     "metadata": {},
     "output_type": "execute_result"
    }
   ],
   "source": [
    "history_data_path = '/home/panstenos/Desktop/RFID-hand-tracker/Data/04_04_2024.csv'\n",
    "card_IDs =  open_and_read_csv(history_data_path)\n",
    "card_IDs"
   ]
  }
 ],
 "metadata": {
  "kernelspec": {
   "display_name": ".venv",
   "language": "python",
   "name": "python3"
  },
  "language_info": {
   "codemirror_mode": {
    "name": "ipython",
    "version": 3
   },
   "file_extension": ".py",
   "mimetype": "text/x-python",
   "name": "python",
   "nbconvert_exporter": "python",
   "pygments_lexer": "ipython3",
   "version": "3.11.2"
  }
 },
 "nbformat": 4,
 "nbformat_minor": 2
}
