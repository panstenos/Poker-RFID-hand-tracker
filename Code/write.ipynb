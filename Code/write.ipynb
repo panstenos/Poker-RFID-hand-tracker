{
 "cells": [
  {
   "cell_type": "code",
   "execution_count": 1,
   "metadata": {},
   "outputs": [
    {
     "name": "stdout",
     "output_type": "stream",
     "text": [
      "GPIO cleaned up due to KeyboardInterrupt\n"
     ]
    }
   ],
   "source": [
    "import RPi.GPIO as GPIO\n",
    "from mfrc522 import SimpleMFRC522\n",
    "from time import sleep\n",
    "from datetime import datetime\n",
    "\n",
    "reader = SimpleMFRC522()\n",
    "\n",
    "try:\n",
    "    while True:\n",
    "        # Get the ID from the user (you can replace this with any ID you want to write)\n",
    "        card_id_to_write = input(\"Enter the ID to write on the card: \")\n",
    "\n",
    "        # Write the ID to the RFID card\n",
    "        reader.write(card_id_to_write)\n",
    "        print(\"ID {} has been written to the card\".format(card_id_to_write))\n",
    "\n",
    "        # Wait for a moment before attempting to read again\n",
    "        sleep(1)\n",
    "\n",
    "except KeyboardInterrupt:\n",
    "    GPIO.cleanup()\n",
    "    print('GPIO cleaned up due to KeyboardInterrupt')\n",
    "\n",
    "except Exception as e:\n",
    "    GPIO.cleanup()\n",
    "    print('Error:', str(e))"
   ]
  },
  {
   "cell_type": "code",
   "execution_count": 1,
   "metadata": {},
   "outputs": [
    {
     "name": "stdout",
     "output_type": "stream",
     "text": [
      "Now place your tag to write\n"
     ]
    },
    {
     "ename": "KeyboardInterrupt",
     "evalue": "",
     "output_type": "error",
     "traceback": [
      "\u001b[0;31m---------------------------------------------------------------------------\u001b[0m",
      "\u001b[0;31mKeyboardInterrupt\u001b[0m                         Traceback (most recent call last)",
      "\u001b[1;32m/home/panstenos/Desktop/RFID-hand-tracker/write.ipynb Cell 1\u001b[0m line \u001b[0;36m9\n\u001b[1;32m      <a href='vscode-notebook-cell://ssh-remote%2B192.168.1.76/home/panstenos/Desktop/RFID-hand-tracker/write.ipynb#W0sdnNjb2RlLXJlbW90ZQ%3D%3D?line=6'>7</a>\u001b[0m     text \u001b[39m=\u001b[39m \u001b[39minput\u001b[39m(\u001b[39m'\u001b[39m\u001b[39mNew data:\u001b[39m\u001b[39m'\u001b[39m)\n\u001b[1;32m      <a href='vscode-notebook-cell://ssh-remote%2B192.168.1.76/home/panstenos/Desktop/RFID-hand-tracker/write.ipynb#W0sdnNjb2RlLXJlbW90ZQ%3D%3D?line=7'>8</a>\u001b[0m     \u001b[39mprint\u001b[39m(\u001b[39m'\u001b[39m\u001b[39mNow place your tag to write\u001b[39m\u001b[39m'\u001b[39m)\n\u001b[0;32m----> <a href='vscode-notebook-cell://ssh-remote%2B192.168.1.76/home/panstenos/Desktop/RFID-hand-tracker/write.ipynb#W0sdnNjb2RlLXJlbW90ZQ%3D%3D?line=8'>9</a>\u001b[0m     reader\u001b[39m.\u001b[39;49mwrite(text)\n\u001b[1;32m     <a href='vscode-notebook-cell://ssh-remote%2B192.168.1.76/home/panstenos/Desktop/RFID-hand-tracker/write.ipynb#W0sdnNjb2RlLXJlbW90ZQ%3D%3D?line=9'>10</a>\u001b[0m     \u001b[39mprint\u001b[39m(\u001b[39m'\u001b[39m\u001b[39mWritten\u001b[39m\u001b[39m'\u001b[39m)\n\u001b[1;32m     <a href='vscode-notebook-cell://ssh-remote%2B192.168.1.76/home/panstenos/Desktop/RFID-hand-tracker/write.ipynb#W0sdnNjb2RlLXJlbW90ZQ%3D%3D?line=11'>12</a>\u001b[0m \u001b[39mfinally\u001b[39;00m:\n",
      "File \u001b[0;32m~/Desktop/RFID-hand-tracker/.venv/lib/python3.11/site-packages/mfrc522/SimpleMFRC522.py:62\u001b[0m, in \u001b[0;36mSimpleMFRC522.write\u001b[0;34m(self, text)\u001b[0m\n\u001b[1;32m     60\u001b[0m \u001b[39mid\u001b[39m, text_in \u001b[39m=\u001b[39m \u001b[39mself\u001b[39m\u001b[39m.\u001b[39mwrite_no_block(text)\n\u001b[1;32m     61\u001b[0m \u001b[39mwhile\u001b[39;00m \u001b[39mnot\u001b[39;00m \u001b[39mid\u001b[39m:\n\u001b[0;32m---> 62\u001b[0m     \u001b[39mid\u001b[39m, text_in \u001b[39m=\u001b[39m \u001b[39mself\u001b[39;49m\u001b[39m.\u001b[39;49mwrite_no_block(text)\n\u001b[1;32m     63\u001b[0m \u001b[39mreturn\u001b[39;00m \u001b[39mid\u001b[39m, text_in\n",
      "File \u001b[0;32m~/Desktop/RFID-hand-tracker/.venv/lib/python3.11/site-packages/mfrc522/SimpleMFRC522.py:66\u001b[0m, in \u001b[0;36mSimpleMFRC522.write_no_block\u001b[0;34m(self, text)\u001b[0m\n\u001b[1;32m     65\u001b[0m \u001b[39mdef\u001b[39;00m \u001b[39mwrite_no_block\u001b[39m(\u001b[39mself\u001b[39m, text):\n\u001b[0;32m---> 66\u001b[0m     (status, TagType) \u001b[39m=\u001b[39m \u001b[39mself\u001b[39;49m\u001b[39m.\u001b[39;49mREADER\u001b[39m.\u001b[39;49mMFRC522_Request(\u001b[39mself\u001b[39;49m\u001b[39m.\u001b[39;49mREADER\u001b[39m.\u001b[39;49mPICC_REQIDL)\n\u001b[1;32m     67\u001b[0m     \u001b[39mif\u001b[39;00m status \u001b[39m!=\u001b[39m \u001b[39mself\u001b[39m\u001b[39m.\u001b[39mREADER\u001b[39m.\u001b[39mMI_OK:\n\u001b[1;32m     68\u001b[0m         \u001b[39mreturn\u001b[39;00m \u001b[39mNone\u001b[39;00m, \u001b[39mNone\u001b[39;00m\n",
      "File \u001b[0;32m~/Desktop/RFID-hand-tracker/.venv/lib/python3.11/site-packages/mfrc522/MFRC522.py:259\u001b[0m, in \u001b[0;36mMFRC522.MFRC522_Request\u001b[0;34m(self, reqMode)\u001b[0m\n\u001b[1;32m    256\u001b[0m \u001b[39mself\u001b[39m\u001b[39m.\u001b[39mWrite_MFRC522(\u001b[39mself\u001b[39m\u001b[39m.\u001b[39mBitFramingReg, \u001b[39m0x07\u001b[39m)\n\u001b[1;32m    258\u001b[0m TagType\u001b[39m.\u001b[39mappend(reqMode)\n\u001b[0;32m--> 259\u001b[0m (status, backData, backBits) \u001b[39m=\u001b[39m \u001b[39mself\u001b[39;49m\u001b[39m.\u001b[39;49mMFRC522_ToCard(\u001b[39mself\u001b[39;49m\u001b[39m.\u001b[39;49mPCD_TRANSCEIVE, TagType)\n\u001b[1;32m    261\u001b[0m \u001b[39mif\u001b[39;00m ((status \u001b[39m!=\u001b[39m \u001b[39mself\u001b[39m\u001b[39m.\u001b[39mMI_OK) \u001b[39m|\u001b[39m (backBits \u001b[39m!=\u001b[39m \u001b[39m0x10\u001b[39m)):\n\u001b[1;32m    262\u001b[0m     status \u001b[39m=\u001b[39m \u001b[39mself\u001b[39m\u001b[39m.\u001b[39mMI_ERR\n",
      "File \u001b[0;32m~/Desktop/RFID-hand-tracker/.venv/lib/python3.11/site-packages/mfrc522/MFRC522.py:217\u001b[0m, in \u001b[0;36mMFRC522.MFRC522_ToCard\u001b[0;34m(self, command, sendData)\u001b[0m\n\u001b[1;32m    215\u001b[0m i \u001b[39m=\u001b[39m \u001b[39m2000\u001b[39m\n\u001b[1;32m    216\u001b[0m \u001b[39mwhile\u001b[39;00m \u001b[39mTrue\u001b[39;00m:\n\u001b[0;32m--> 217\u001b[0m     n \u001b[39m=\u001b[39m \u001b[39mself\u001b[39;49m\u001b[39m.\u001b[39;49mRead_MFRC522(\u001b[39mself\u001b[39;49m\u001b[39m.\u001b[39;49mCommIrqReg)\n\u001b[1;32m    218\u001b[0m     i \u001b[39m-\u001b[39m\u001b[39m=\u001b[39m \u001b[39m1\u001b[39m\n\u001b[1;32m    219\u001b[0m     \u001b[39mif\u001b[39;00m \u001b[39m~\u001b[39m((i \u001b[39m!=\u001b[39m \u001b[39m0\u001b[39m) \u001b[39mand\u001b[39;00m \u001b[39m~\u001b[39m(n \u001b[39m&\u001b[39m \u001b[39m0x01\u001b[39m) \u001b[39mand\u001b[39;00m \u001b[39m~\u001b[39m(n \u001b[39m&\u001b[39m waitIRq)):\n",
      "File \u001b[0;32m~/Desktop/RFID-hand-tracker/.venv/lib/python3.11/site-packages/mfrc522/MFRC522.py:162\u001b[0m, in \u001b[0;36mMFRC522.Read_MFRC522\u001b[0;34m(self, addr)\u001b[0m\n\u001b[1;32m    161\u001b[0m \u001b[39mdef\u001b[39;00m \u001b[39mRead_MFRC522\u001b[39m(\u001b[39mself\u001b[39m, addr):\n\u001b[0;32m--> 162\u001b[0m     val \u001b[39m=\u001b[39m \u001b[39mself\u001b[39;49m\u001b[39m.\u001b[39;49mspi\u001b[39m.\u001b[39;49mxfer2([((addr \u001b[39m<<\u001b[39;49m \u001b[39m1\u001b[39;49m) \u001b[39m&\u001b[39;49m \u001b[39m0x7E\u001b[39;49m) \u001b[39m|\u001b[39;49m \u001b[39m0x80\u001b[39;49m, \u001b[39m0\u001b[39;49m])\n\u001b[1;32m    163\u001b[0m     \u001b[39mreturn\u001b[39;00m val[\u001b[39m1\u001b[39m]\n",
      "\u001b[0;31mKeyboardInterrupt\u001b[0m: "
     ]
    }
   ],
   "source": [
    "import RPi.GPIO as GPIO\n",
    "from mfrc522 import SimpleMFRC522\n",
    "\n",
    "reader = SimpleMFRC522()\n",
    "\n",
    "try:\n",
    "    text = input('New data:')\n",
    "    print('Now place your tag to write')\n",
    "    reader.write(text)\n",
    "    print('Written')\n",
    "\n",
    "except:\n",
    "    GPIO.cleanup()"
   ]
  }
 ],
 "metadata": {
  "kernelspec": {
   "display_name": ".venv",
   "language": "python",
   "name": "python3"
  },
  "language_info": {
   "codemirror_mode": {
    "name": "ipython",
    "version": 3
   },
   "file_extension": ".py",
   "mimetype": "text/x-python",
   "name": "python",
   "nbconvert_exporter": "python",
   "pygments_lexer": "ipython3",
   "version": "3.11.2"
  }
 },
 "nbformat": 4,
 "nbformat_minor": 2
}
